{
 "cells": [
  {
   "cell_type": "code",
   "execution_count": 9,
   "metadata": {},
   "outputs": [],
   "source": [
    "import pandas as pd\n",
    "from sklearn.linear_model import LinearRegression\n",
    "from sklearn.model_selection import train_test_split\n",
    "from sklearn.metrics import mean_squared_error\n",
    "import matplotlib.pyplot as plt\n",
    "#import plotly\n",
    "#import plotly.graph_objs as go\n",
    "#import plotly.offline as py\n",
    "#plotly.offline.init_notebook_mode()\n",
    "import datetime"
   ]
  },
  {
   "cell_type": "code",
   "execution_count": 65,
   "metadata": {},
   "outputs": [],
   "source": [
    "dataset = pd.read_excel('BIDI4F.xls')"
   ]
  },
  {
   "cell_type": "code",
   "execution_count": 66,
   "metadata": {},
   "outputs": [
    {
     "data": {
      "text/html": [
       "<div>\n",
       "<style scoped>\n",
       "    .dataframe tbody tr th:only-of-type {\n",
       "        vertical-align: middle;\n",
       "    }\n",
       "\n",
       "    .dataframe tbody tr th {\n",
       "        vertical-align: top;\n",
       "    }\n",
       "\n",
       "    .dataframe thead th {\n",
       "        text-align: right;\n",
       "    }\n",
       "</style>\n",
       "<table border=\"1\" class=\"dataframe\">\n",
       "  <thead>\n",
       "    <tr style=\"text-align: right;\">\n",
       "      <th></th>\n",
       "      <th>Data</th>\n",
       "      <th>Abertura</th>\n",
       "      <th>Maxima</th>\n",
       "      <th>Minima</th>\n",
       "      <th>Fechamento</th>\n",
       "      <th>Movel9</th>\n",
       "      <th>Movel21</th>\n",
       "      <th>Movel200</th>\n",
       "    </tr>\n",
       "  </thead>\n",
       "  <tbody>\n",
       "    <tr>\n",
       "      <th>0</th>\n",
       "      <td>2019-03-06</td>\n",
       "      <td>6.61</td>\n",
       "      <td>6.61</td>\n",
       "      <td>6.43</td>\n",
       "      <td>6.60</td>\n",
       "      <td>6.52</td>\n",
       "      <td>6.58</td>\n",
       "      <td>4.90</td>\n",
       "    </tr>\n",
       "    <tr>\n",
       "      <th>1</th>\n",
       "      <td>2019-03-07</td>\n",
       "      <td>6.57</td>\n",
       "      <td>6.70</td>\n",
       "      <td>6.57</td>\n",
       "      <td>6.67</td>\n",
       "      <td>6.55</td>\n",
       "      <td>6.59</td>\n",
       "      <td>4.92</td>\n",
       "    </tr>\n",
       "    <tr>\n",
       "      <th>2</th>\n",
       "      <td>2019-03-08</td>\n",
       "      <td>6.68</td>\n",
       "      <td>6.87</td>\n",
       "      <td>6.65</td>\n",
       "      <td>6.85</td>\n",
       "      <td>6.61</td>\n",
       "      <td>6.61</td>\n",
       "      <td>4.94</td>\n",
       "    </tr>\n",
       "    <tr>\n",
       "      <th>3</th>\n",
       "      <td>2019-03-11</td>\n",
       "      <td>6.84</td>\n",
       "      <td>7.09</td>\n",
       "      <td>6.78</td>\n",
       "      <td>7.09</td>\n",
       "      <td>6.71</td>\n",
       "      <td>6.66</td>\n",
       "      <td>4.96</td>\n",
       "    </tr>\n",
       "    <tr>\n",
       "      <th>4</th>\n",
       "      <td>2019-03-12</td>\n",
       "      <td>7.09</td>\n",
       "      <td>7.24</td>\n",
       "      <td>6.97</td>\n",
       "      <td>7.22</td>\n",
       "      <td>6.81</td>\n",
       "      <td>6.71</td>\n",
       "      <td>4.98</td>\n",
       "    </tr>\n",
       "    <tr>\n",
       "      <th>...</th>\n",
       "      <td>...</td>\n",
       "      <td>...</td>\n",
       "      <td>...</td>\n",
       "      <td>...</td>\n",
       "      <td>...</td>\n",
       "      <td>...</td>\n",
       "      <td>...</td>\n",
       "      <td>...</td>\n",
       "    </tr>\n",
       "    <tr>\n",
       "      <th>346</th>\n",
       "      <td>2020-07-24</td>\n",
       "      <td>17.94</td>\n",
       "      <td>18.46</td>\n",
       "      <td>16.16</td>\n",
       "      <td>18.39</td>\n",
       "      <td>17.49</td>\n",
       "      <td>16.27</td>\n",
       "      <td>13.22</td>\n",
       "    </tr>\n",
       "    <tr>\n",
       "      <th>347</th>\n",
       "      <td>2020-07-27</td>\n",
       "      <td>18.42</td>\n",
       "      <td>19.15</td>\n",
       "      <td>18.42</td>\n",
       "      <td>18.90</td>\n",
       "      <td>17.77</td>\n",
       "      <td>16.51</td>\n",
       "      <td>13.27</td>\n",
       "    </tr>\n",
       "    <tr>\n",
       "      <th>348</th>\n",
       "      <td>2020-07-28</td>\n",
       "      <td>18.91</td>\n",
       "      <td>19.10</td>\n",
       "      <td>18.58</td>\n",
       "      <td>18.97</td>\n",
       "      <td>18.01</td>\n",
       "      <td>16.73</td>\n",
       "      <td>13.33</td>\n",
       "    </tr>\n",
       "    <tr>\n",
       "      <th>349</th>\n",
       "      <td>2020-07-29</td>\n",
       "      <td>19.60</td>\n",
       "      <td>20.45</td>\n",
       "      <td>19.31</td>\n",
       "      <td>20.30</td>\n",
       "      <td>18.47</td>\n",
       "      <td>17.05</td>\n",
       "      <td>13.40</td>\n",
       "    </tr>\n",
       "    <tr>\n",
       "      <th>350</th>\n",
       "      <td>2020-07-30</td>\n",
       "      <td>20.00</td>\n",
       "      <td>20.66</td>\n",
       "      <td>19.60</td>\n",
       "      <td>20.31</td>\n",
       "      <td>18.84</td>\n",
       "      <td>17.35</td>\n",
       "      <td>13.47</td>\n",
       "    </tr>\n",
       "  </tbody>\n",
       "</table>\n",
       "<p>351 rows × 8 columns</p>\n",
       "</div>"
      ],
      "text/plain": [
       "          Data  Abertura  Maxima  Minima  Fechamento  Movel9  Movel21  \\\n",
       "0   2019-03-06      6.61    6.61    6.43        6.60    6.52     6.58   \n",
       "1   2019-03-07      6.57    6.70    6.57        6.67    6.55     6.59   \n",
       "2   2019-03-08      6.68    6.87    6.65        6.85    6.61     6.61   \n",
       "3   2019-03-11      6.84    7.09    6.78        7.09    6.71     6.66   \n",
       "4   2019-03-12      7.09    7.24    6.97        7.22    6.81     6.71   \n",
       "..         ...       ...     ...     ...         ...     ...      ...   \n",
       "346 2020-07-24     17.94   18.46   16.16       18.39   17.49    16.27   \n",
       "347 2020-07-27     18.42   19.15   18.42       18.90   17.77    16.51   \n",
       "348 2020-07-28     18.91   19.10   18.58       18.97   18.01    16.73   \n",
       "349 2020-07-29     19.60   20.45   19.31       20.30   18.47    17.05   \n",
       "350 2020-07-30     20.00   20.66   19.60       20.31   18.84    17.35   \n",
       "\n",
       "     Movel200  \n",
       "0        4.90  \n",
       "1        4.92  \n",
       "2        4.94  \n",
       "3        4.96  \n",
       "4        4.98  \n",
       "..        ...  \n",
       "346     13.22  \n",
       "347     13.27  \n",
       "348     13.33  \n",
       "349     13.40  \n",
       "350     13.47  \n",
       "\n",
       "[351 rows x 8 columns]"
      ]
     },
     "execution_count": 66,
     "metadata": {},
     "output_type": "execute_result"
    }
   ],
   "source": [
    "dataset"
   ]
  },
  {
   "cell_type": "code",
   "execution_count": 67,
   "metadata": {},
   "outputs": [],
   "source": [
    "dataset['Data'] = pd.to_datetime(dataset['Data'])"
   ]
  },
  {
   "cell_type": "code",
   "execution_count": 68,
   "metadata": {},
   "outputs": [],
   "source": [
    "dataset['variacao'] = dataset['Fechamento'].sub(dataset['Abertura'])"
   ]
  },
  {
   "cell_type": "code",
   "execution_count": 69,
   "metadata": {},
   "outputs": [
    {
     "data": {
      "text/html": [
       "<div>\n",
       "<style scoped>\n",
       "    .dataframe tbody tr th:only-of-type {\n",
       "        vertical-align: middle;\n",
       "    }\n",
       "\n",
       "    .dataframe tbody tr th {\n",
       "        vertical-align: top;\n",
       "    }\n",
       "\n",
       "    .dataframe thead th {\n",
       "        text-align: right;\n",
       "    }\n",
       "</style>\n",
       "<table border=\"1\" class=\"dataframe\">\n",
       "  <thead>\n",
       "    <tr style=\"text-align: right;\">\n",
       "      <th></th>\n",
       "      <th>Data</th>\n",
       "      <th>Abertura</th>\n",
       "      <th>Maxima</th>\n",
       "      <th>Minima</th>\n",
       "      <th>Fechamento</th>\n",
       "      <th>Movel9</th>\n",
       "      <th>Movel21</th>\n",
       "      <th>Movel200</th>\n",
       "      <th>variacao</th>\n",
       "    </tr>\n",
       "  </thead>\n",
       "  <tbody>\n",
       "    <tr>\n",
       "      <th>0</th>\n",
       "      <td>2019-03-06</td>\n",
       "      <td>6.61</td>\n",
       "      <td>6.61</td>\n",
       "      <td>6.43</td>\n",
       "      <td>6.60</td>\n",
       "      <td>6.52</td>\n",
       "      <td>6.58</td>\n",
       "      <td>4.90</td>\n",
       "      <td>-0.01</td>\n",
       "    </tr>\n",
       "    <tr>\n",
       "      <th>1</th>\n",
       "      <td>2019-03-07</td>\n",
       "      <td>6.57</td>\n",
       "      <td>6.70</td>\n",
       "      <td>6.57</td>\n",
       "      <td>6.67</td>\n",
       "      <td>6.55</td>\n",
       "      <td>6.59</td>\n",
       "      <td>4.92</td>\n",
       "      <td>0.10</td>\n",
       "    </tr>\n",
       "    <tr>\n",
       "      <th>2</th>\n",
       "      <td>2019-03-08</td>\n",
       "      <td>6.68</td>\n",
       "      <td>6.87</td>\n",
       "      <td>6.65</td>\n",
       "      <td>6.85</td>\n",
       "      <td>6.61</td>\n",
       "      <td>6.61</td>\n",
       "      <td>4.94</td>\n",
       "      <td>0.17</td>\n",
       "    </tr>\n",
       "    <tr>\n",
       "      <th>3</th>\n",
       "      <td>2019-03-11</td>\n",
       "      <td>6.84</td>\n",
       "      <td>7.09</td>\n",
       "      <td>6.78</td>\n",
       "      <td>7.09</td>\n",
       "      <td>6.71</td>\n",
       "      <td>6.66</td>\n",
       "      <td>4.96</td>\n",
       "      <td>0.25</td>\n",
       "    </tr>\n",
       "    <tr>\n",
       "      <th>4</th>\n",
       "      <td>2019-03-12</td>\n",
       "      <td>7.09</td>\n",
       "      <td>7.24</td>\n",
       "      <td>6.97</td>\n",
       "      <td>7.22</td>\n",
       "      <td>6.81</td>\n",
       "      <td>6.71</td>\n",
       "      <td>4.98</td>\n",
       "      <td>0.13</td>\n",
       "    </tr>\n",
       "  </tbody>\n",
       "</table>\n",
       "</div>"
      ],
      "text/plain": [
       "        Data  Abertura  Maxima  Minima  Fechamento  Movel9  Movel21  Movel200  \\\n",
       "0 2019-03-06      6.61    6.61    6.43        6.60    6.52     6.58      4.90   \n",
       "1 2019-03-07      6.57    6.70    6.57        6.67    6.55     6.59      4.92   \n",
       "2 2019-03-08      6.68    6.87    6.65        6.85    6.61     6.61      4.94   \n",
       "3 2019-03-11      6.84    7.09    6.78        7.09    6.71     6.66      4.96   \n",
       "4 2019-03-12      7.09    7.24    6.97        7.22    6.81     6.71      4.98   \n",
       "\n",
       "   variacao  \n",
       "0     -0.01  \n",
       "1      0.10  \n",
       "2      0.17  \n",
       "3      0.25  \n",
       "4      0.13  "
      ]
     },
     "execution_count": 69,
     "metadata": {},
     "output_type": "execute_result"
    }
   ],
   "source": [
    "dataset.head()"
   ]
  },
  {
   "cell_type": "code",
   "execution_count": 70,
   "metadata": {},
   "outputs": [
    {
     "data": {
      "text/html": [
       "<div>\n",
       "<style scoped>\n",
       "    .dataframe tbody tr th:only-of-type {\n",
       "        vertical-align: middle;\n",
       "    }\n",
       "\n",
       "    .dataframe tbody tr th {\n",
       "        vertical-align: top;\n",
       "    }\n",
       "\n",
       "    .dataframe thead th {\n",
       "        text-align: right;\n",
       "    }\n",
       "</style>\n",
       "<table border=\"1\" class=\"dataframe\">\n",
       "  <thead>\n",
       "    <tr style=\"text-align: right;\">\n",
       "      <th></th>\n",
       "      <th>Abertura</th>\n",
       "      <th>Maxima</th>\n",
       "      <th>Minima</th>\n",
       "      <th>Fechamento</th>\n",
       "      <th>Movel9</th>\n",
       "      <th>Movel21</th>\n",
       "      <th>Movel200</th>\n",
       "      <th>variacao</th>\n",
       "    </tr>\n",
       "  </thead>\n",
       "  <tbody>\n",
       "    <tr>\n",
       "      <th>count</th>\n",
       "      <td>351.000000</td>\n",
       "      <td>351.000000</td>\n",
       "      <td>351.000000</td>\n",
       "      <td>351.000000</td>\n",
       "      <td>351.000000</td>\n",
       "      <td>351.000000</td>\n",
       "      <td>351.000000</td>\n",
       "      <td>351.000000</td>\n",
       "    </tr>\n",
       "    <tr>\n",
       "      <th>mean</th>\n",
       "      <td>13.629487</td>\n",
       "      <td>13.959801</td>\n",
       "      <td>13.227123</td>\n",
       "      <td>13.611225</td>\n",
       "      <td>13.470712</td>\n",
       "      <td>13.304330</td>\n",
       "      <td>11.177436</td>\n",
       "      <td>-0.018262</td>\n",
       "    </tr>\n",
       "    <tr>\n",
       "      <th>std</th>\n",
       "      <td>3.865684</td>\n",
       "      <td>3.919540</td>\n",
       "      <td>3.756380</td>\n",
       "      <td>3.830464</td>\n",
       "      <td>3.737666</td>\n",
       "      <td>3.620842</td>\n",
       "      <td>3.179450</td>\n",
       "      <td>0.522723</td>\n",
       "    </tr>\n",
       "    <tr>\n",
       "      <th>min</th>\n",
       "      <td>6.570000</td>\n",
       "      <td>6.610000</td>\n",
       "      <td>5.770000</td>\n",
       "      <td>6.600000</td>\n",
       "      <td>6.520000</td>\n",
       "      <td>6.580000</td>\n",
       "      <td>4.900000</td>\n",
       "      <td>-3.380000</td>\n",
       "    </tr>\n",
       "    <tr>\n",
       "      <th>25%</th>\n",
       "      <td>9.985000</td>\n",
       "      <td>10.240000</td>\n",
       "      <td>9.735000</td>\n",
       "      <td>9.980000</td>\n",
       "      <td>10.020000</td>\n",
       "      <td>10.120000</td>\n",
       "      <td>7.950000</td>\n",
       "      <td>-0.250000</td>\n",
       "    </tr>\n",
       "    <tr>\n",
       "      <th>50%</th>\n",
       "      <td>13.920000</td>\n",
       "      <td>14.460000</td>\n",
       "      <td>13.520000</td>\n",
       "      <td>13.810000</td>\n",
       "      <td>13.600000</td>\n",
       "      <td>13.160000</td>\n",
       "      <td>12.580000</td>\n",
       "      <td>-0.040000</td>\n",
       "    </tr>\n",
       "    <tr>\n",
       "      <th>75%</th>\n",
       "      <td>16.855000</td>\n",
       "      <td>17.045000</td>\n",
       "      <td>16.410000</td>\n",
       "      <td>16.835000</td>\n",
       "      <td>16.770000</td>\n",
       "      <td>16.655000</td>\n",
       "      <td>13.625000</td>\n",
       "      <td>0.200000</td>\n",
       "    </tr>\n",
       "    <tr>\n",
       "      <th>max</th>\n",
       "      <td>24.350000</td>\n",
       "      <td>24.350000</td>\n",
       "      <td>22.240000</td>\n",
       "      <td>23.020000</td>\n",
       "      <td>20.200000</td>\n",
       "      <td>19.400000</td>\n",
       "      <td>14.810000</td>\n",
       "      <td>2.580000</td>\n",
       "    </tr>\n",
       "  </tbody>\n",
       "</table>\n",
       "</div>"
      ],
      "text/plain": [
       "         Abertura      Maxima      Minima  Fechamento      Movel9     Movel21  \\\n",
       "count  351.000000  351.000000  351.000000  351.000000  351.000000  351.000000   \n",
       "mean    13.629487   13.959801   13.227123   13.611225   13.470712   13.304330   \n",
       "std      3.865684    3.919540    3.756380    3.830464    3.737666    3.620842   \n",
       "min      6.570000    6.610000    5.770000    6.600000    6.520000    6.580000   \n",
       "25%      9.985000   10.240000    9.735000    9.980000   10.020000   10.120000   \n",
       "50%     13.920000   14.460000   13.520000   13.810000   13.600000   13.160000   \n",
       "75%     16.855000   17.045000   16.410000   16.835000   16.770000   16.655000   \n",
       "max     24.350000   24.350000   22.240000   23.020000   20.200000   19.400000   \n",
       "\n",
       "         Movel200    variacao  \n",
       "count  351.000000  351.000000  \n",
       "mean    11.177436   -0.018262  \n",
       "std      3.179450    0.522723  \n",
       "min      4.900000   -3.380000  \n",
       "25%      7.950000   -0.250000  \n",
       "50%     12.580000   -0.040000  \n",
       "75%     13.625000    0.200000  \n",
       "max     14.810000    2.580000  "
      ]
     },
     "execution_count": 70,
     "metadata": {},
     "output_type": "execute_result"
    }
   ],
   "source": [
    "dataset.describe()"
   ]
  },
  {
   "cell_type": "code",
   "execution_count": 71,
   "metadata": {},
   "outputs": [],
   "source": [
    "import matplotlib.dates as mdates\n",
    "import datetime as dt"
   ]
  },
  {
   "cell_type": "code",
   "execution_count": 144,
   "metadata": {},
   "outputs": [],
   "source": [
    "treino = dataset"
   ]
  },
  {
   "cell_type": "code",
   "execution_count": 145,
   "metadata": {},
   "outputs": [],
   "source": [
    "x = treino.Abertura\n",
    "y = treino.Fechamento"
   ]
  },
  {
   "cell_type": "code",
   "execution_count": 146,
   "metadata": {},
   "outputs": [
    {
     "data": {
      "text/plain": [
       "0    6.60\n",
       "1    6.67\n",
       "2    6.85\n",
       "3    7.09\n",
       "4    7.22\n",
       "Name: Fechamento, dtype: float64"
      ]
     },
     "execution_count": 146,
     "metadata": {},
     "output_type": "execute_result"
    }
   ],
   "source": [
    "y.head()"
   ]
  },
  {
   "cell_type": "code",
   "execution_count": 157,
   "metadata": {},
   "outputs": [],
   "source": [
    "features = ['Abertura','Maxima','Minima']\n",
    "treino = treino[features]"
   ]
  },
  {
   "cell_type": "code",
   "execution_count": 158,
   "metadata": {},
   "outputs": [
    {
     "data": {
      "text/html": [
       "<div>\n",
       "<style scoped>\n",
       "    .dataframe tbody tr th:only-of-type {\n",
       "        vertical-align: middle;\n",
       "    }\n",
       "\n",
       "    .dataframe tbody tr th {\n",
       "        vertical-align: top;\n",
       "    }\n",
       "\n",
       "    .dataframe thead th {\n",
       "        text-align: right;\n",
       "    }\n",
       "</style>\n",
       "<table border=\"1\" class=\"dataframe\">\n",
       "  <thead>\n",
       "    <tr style=\"text-align: right;\">\n",
       "      <th></th>\n",
       "      <th>Abertura</th>\n",
       "      <th>Maxima</th>\n",
       "      <th>Minima</th>\n",
       "    </tr>\n",
       "  </thead>\n",
       "  <tbody>\n",
       "    <tr>\n",
       "      <th>0</th>\n",
       "      <td>6.61</td>\n",
       "      <td>6.61</td>\n",
       "      <td>6.43</td>\n",
       "    </tr>\n",
       "    <tr>\n",
       "      <th>1</th>\n",
       "      <td>6.57</td>\n",
       "      <td>6.70</td>\n",
       "      <td>6.57</td>\n",
       "    </tr>\n",
       "    <tr>\n",
       "      <th>2</th>\n",
       "      <td>6.68</td>\n",
       "      <td>6.87</td>\n",
       "      <td>6.65</td>\n",
       "    </tr>\n",
       "    <tr>\n",
       "      <th>3</th>\n",
       "      <td>6.84</td>\n",
       "      <td>7.09</td>\n",
       "      <td>6.78</td>\n",
       "    </tr>\n",
       "    <tr>\n",
       "      <th>4</th>\n",
       "      <td>7.09</td>\n",
       "      <td>7.24</td>\n",
       "      <td>6.97</td>\n",
       "    </tr>\n",
       "  </tbody>\n",
       "</table>\n",
       "</div>"
      ],
      "text/plain": [
       "   Abertura  Maxima  Minima\n",
       "0      6.61    6.61    6.43\n",
       "1      6.57    6.70    6.57\n",
       "2      6.68    6.87    6.65\n",
       "3      6.84    7.09    6.78\n",
       "4      7.09    7.24    6.97"
      ]
     },
     "execution_count": 158,
     "metadata": {},
     "output_type": "execute_result"
    }
   ],
   "source": [
    "treino.head()"
   ]
  },
  {
   "cell_type": "code",
   "execution_count": 159,
   "metadata": {},
   "outputs": [],
   "source": [
    "y = dataset['Fechamento']"
   ]
  },
  {
   "cell_type": "code",
   "execution_count": 175,
   "metadata": {},
   "outputs": [],
   "source": [
    "X_treino, X_teste, y_treino, y_teste = train_test_split(\n",
    "treino, y, test_size=0.33,shuffle=None, random_state=42)"
   ]
  },
  {
   "cell_type": "code",
   "execution_count": 176,
   "metadata": {},
   "outputs": [
    {
     "data": {
      "text/html": [
       "<div>\n",
       "<style scoped>\n",
       "    .dataframe tbody tr th:only-of-type {\n",
       "        vertical-align: middle;\n",
       "    }\n",
       "\n",
       "    .dataframe tbody tr th {\n",
       "        vertical-align: top;\n",
       "    }\n",
       "\n",
       "    .dataframe thead th {\n",
       "        text-align: right;\n",
       "    }\n",
       "</style>\n",
       "<table border=\"1\" class=\"dataframe\">\n",
       "  <thead>\n",
       "    <tr style=\"text-align: right;\">\n",
       "      <th></th>\n",
       "      <th>Abertura</th>\n",
       "      <th>Maxima</th>\n",
       "      <th>Minima</th>\n",
       "    </tr>\n",
       "  </thead>\n",
       "  <tbody>\n",
       "    <tr>\n",
       "      <th>333</th>\n",
       "      <td>15.47</td>\n",
       "      <td>15.76</td>\n",
       "      <td>15.13</td>\n",
       "    </tr>\n",
       "    <tr>\n",
       "      <th>328</th>\n",
       "      <td>14.96</td>\n",
       "      <td>15.44</td>\n",
       "      <td>14.01</td>\n",
       "    </tr>\n",
       "    <tr>\n",
       "      <th>265</th>\n",
       "      <td>10.90</td>\n",
       "      <td>11.15</td>\n",
       "      <td>10.55</td>\n",
       "    </tr>\n",
       "    <tr>\n",
       "      <th>163</th>\n",
       "      <td>16.46</td>\n",
       "      <td>16.65</td>\n",
       "      <td>16.36</td>\n",
       "    </tr>\n",
       "    <tr>\n",
       "      <th>59</th>\n",
       "      <td>11.57</td>\n",
       "      <td>11.77</td>\n",
       "      <td>11.44</td>\n",
       "    </tr>\n",
       "  </tbody>\n",
       "</table>\n",
       "</div>"
      ],
      "text/plain": [
       "     Abertura  Maxima  Minima\n",
       "333     15.47   15.76   15.13\n",
       "328     14.96   15.44   14.01\n",
       "265     10.90   11.15   10.55\n",
       "163     16.46   16.65   16.36\n",
       "59      11.57   11.77   11.44"
      ]
     },
     "execution_count": 176,
     "metadata": {},
     "output_type": "execute_result"
    }
   ],
   "source": [
    "X_treino.head()"
   ]
  },
  {
   "cell_type": "code",
   "execution_count": 177,
   "metadata": {},
   "outputs": [],
   "source": [
    "lr_model = LinearRegression()"
   ]
  },
  {
   "cell_type": "code",
   "execution_count": 178,
   "metadata": {},
   "outputs": [
    {
     "data": {
      "text/plain": [
       "LinearRegression(copy_X=True, fit_intercept=True, n_jobs=None, normalize=False)"
      ]
     },
     "execution_count": 178,
     "metadata": {},
     "output_type": "execute_result"
    }
   ],
   "source": [
    "lr_model.fit(X_treino,y_treino)"
   ]
  },
  {
   "cell_type": "code",
   "execution_count": 179,
   "metadata": {},
   "outputs": [
    {
     "data": {
      "text/plain": [
       "array([-0.47320042,  0.86734758,  0.6017231 ])"
      ]
     },
     "execution_count": 179,
     "metadata": {},
     "output_type": "execute_result"
    }
   ],
   "source": [
    "lr_model.coef_"
   ]
  },
  {
   "cell_type": "code",
   "execution_count": 180,
   "metadata": {},
   "outputs": [
    {
     "data": {
      "text/plain": [
       "array([16.91927211, 17.27696993, 11.63173092, 16.14756358, 17.76165298,\n",
       "        9.9211271 , 11.65490603, 16.02108072,  9.29542155, 14.39241066])"
      ]
     },
     "execution_count": 180,
     "metadata": {},
     "output_type": "execute_result"
    }
   ],
   "source": [
    "lr_model.predict(X_teste)[:10]"
   ]
  },
  {
   "cell_type": "code",
   "execution_count": 185,
   "metadata": {},
   "outputs": [
    {
     "data": {
      "text/plain": [
       "157    16.93\n",
       "Name: Fechamento, dtype: float64"
      ]
     },
     "execution_count": 185,
     "metadata": {},
     "output_type": "execute_result"
    }
   ],
   "source": [
    "y_teste[:1]"
   ]
  },
  {
   "cell_type": "code",
   "execution_count": 182,
   "metadata": {},
   "outputs": [
    {
     "data": {
      "text/plain": [
       "0.2621276268965406"
      ]
     },
     "execution_count": 182,
     "metadata": {},
     "output_type": "execute_result"
    }
   ],
   "source": [
    "RMSE = mean_squared_error(y_teste, lr_model.predict(X_teste))**0.5\n",
    "RMSE"
   ]
  },
  {
   "cell_type": "code",
   "execution_count": 183,
   "metadata": {},
   "outputs": [
    {
     "data": {
      "text/plain": [
       "0.9961076368339088"
      ]
     },
     "execution_count": 183,
     "metadata": {},
     "output_type": "execute_result"
    }
   ],
   "source": [
    "lr_model.score(X_treino, y_treino)"
   ]
  },
  {
   "cell_type": "code",
   "execution_count": 184,
   "metadata": {},
   "outputs": [
    {
     "data": {
      "text/plain": [
       "0.9953294726616323"
      ]
     },
     "execution_count": 184,
     "metadata": {},
     "output_type": "execute_result"
    }
   ],
   "source": [
    "lr_model.score(X_teste, y_teste)"
   ]
  },
  {
   "cell_type": "code",
   "execution_count": 190,
   "metadata": {},
   "outputs": [],
   "source": [
    "dsTeste = pd.read_excel('teste.xls')"
   ]
  },
  {
   "cell_type": "code",
   "execution_count": 191,
   "metadata": {},
   "outputs": [
    {
     "data": {
      "text/html": [
       "<div>\n",
       "<style scoped>\n",
       "    .dataframe tbody tr th:only-of-type {\n",
       "        vertical-align: middle;\n",
       "    }\n",
       "\n",
       "    .dataframe tbody tr th {\n",
       "        vertical-align: top;\n",
       "    }\n",
       "\n",
       "    .dataframe thead th {\n",
       "        text-align: right;\n",
       "    }\n",
       "</style>\n",
       "<table border=\"1\" class=\"dataframe\">\n",
       "  <thead>\n",
       "    <tr style=\"text-align: right;\">\n",
       "      <th></th>\n",
       "      <th>Data</th>\n",
       "      <th>Abertura</th>\n",
       "      <th>Maxima</th>\n",
       "      <th>Minima</th>\n",
       "      <th>Fechamento</th>\n",
       "      <th>Movel9</th>\n",
       "      <th>Movel21</th>\n",
       "      <th>Movel200</th>\n",
       "    </tr>\n",
       "  </thead>\n",
       "  <tbody>\n",
       "    <tr>\n",
       "      <th>0</th>\n",
       "      <td>2020-07-31</td>\n",
       "      <td>20.3</td>\n",
       "      <td>20.96</td>\n",
       "      <td>20.01</td>\n",
       "      <td>20.59</td>\n",
       "      <td>19.19</td>\n",
       "      <td>17.64</td>\n",
       "      <td>13.54</td>\n",
       "    </tr>\n",
       "  </tbody>\n",
       "</table>\n",
       "</div>"
      ],
      "text/plain": [
       "        Data  Abertura  Maxima  Minima  Fechamento  Movel9  Movel21  Movel200\n",
       "0 2020-07-31      20.3   20.96   20.01       20.59   19.19    17.64     13.54"
      ]
     },
     "execution_count": 191,
     "metadata": {},
     "output_type": "execute_result"
    }
   ],
   "source": [
    "dsTeste"
   ]
  },
  {
   "cell_type": "code",
   "execution_count": 193,
   "metadata": {},
   "outputs": [],
   "source": [
    "features1 = ['Abertura','Maxima','Minima']\n",
    "test1 = test1[features1]"
   ]
  },
  {
   "cell_type": "code",
   "execution_count": 194,
   "metadata": {},
   "outputs": [],
   "source": [
    "test1 = dsTeste[features1]"
   ]
  },
  {
   "cell_type": "code",
   "execution_count": 196,
   "metadata": {},
   "outputs": [
    {
     "data": {
      "text/plain": [
       "array([20.61274413])"
      ]
     },
     "execution_count": 196,
     "metadata": {},
     "output_type": "execute_result"
    }
   ],
   "source": [
    "lr_model.predict(test1)"
   ]
  },
  {
   "cell_type": "code",
   "execution_count": 198,
   "metadata": {},
   "outputs": [],
   "source": [
    "#definir valor de fechamento ou max e min a partir de abertura e médias móveis"
   ]
  },
  {
   "cell_type": "code",
   "execution_count": 200,
   "metadata": {},
   "outputs": [],
   "source": [
    "#criar conjunto de dados com dados dos primeiros 5 minutos de abertura, e dados do fechamento, \n",
    "#com isso prever minímas e max do dia"
   ]
  },
  {
   "cell_type": "code",
   "execution_count": null,
   "metadata": {},
   "outputs": [],
   "source": []
  }
 ],
 "metadata": {
  "kernelspec": {
   "display_name": "Python 3",
   "language": "python",
   "name": "python3"
  },
  "language_info": {
   "codemirror_mode": {
    "name": "ipython",
    "version": 3
   },
   "file_extension": ".py",
   "mimetype": "text/x-python",
   "name": "python",
   "nbconvert_exporter": "python",
   "pygments_lexer": "ipython3",
   "version": "3.7.6"
  }
 },
 "nbformat": 4,
 "nbformat_minor": 4
}
